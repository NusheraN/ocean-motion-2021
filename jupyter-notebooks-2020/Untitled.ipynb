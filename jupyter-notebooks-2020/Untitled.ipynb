{
 "cells": [
  {
   "cell_type": "code",
   "execution_count": 2,
   "metadata": {},
   "outputs": [
    {
     "name": "stdout",
     "output_type": "stream",
     "text": [
      "Hello my favorite star is Red Dwarf\n"
     ]
    }
   ],
   "source": [
    "class stars:\n",
    "  def __init__(self, name, common):\n",
    "    self.name = name\n",
    "    self.common = common\n",
    "\n",
    "  def myfunc(self):\n",
    "    print(\"Hello a common star is \" + self.common)\n",
    "\n",
    "p1 = stars(\"star\", \"Red Dwarf\")\n",
    "p1.myfunc()"
   ]
  },
  {
   "cell_type": "code",
   "execution_count": null,
   "metadata": {},
   "outputs": [],
   "source": []
  }
 ],
 "metadata": {
  "kernelspec": {
   "display_name": "Python 3",
   "language": "python",
   "name": "python3"
  },
  "language_info": {
   "codemirror_mode": {
    "name": "ipython",
    "version": 3
   },
   "file_extension": ".py",
   "mimetype": "text/x-python",
   "name": "python",
   "nbconvert_exporter": "python",
   "pygments_lexer": "ipython3",
   "version": "3.8.5"
  }
 },
 "nbformat": 4,
 "nbformat_minor": 4
}
