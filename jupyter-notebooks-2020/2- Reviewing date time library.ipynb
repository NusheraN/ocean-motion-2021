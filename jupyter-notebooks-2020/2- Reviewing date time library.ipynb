{
 "cells": [
  {
   "cell_type": "markdown",
   "metadata": {},
   "source": [
    "We probably remember that we are working with 4-d data, where the dimensions are TIME x DEPTH x LAT x LON. \n",
    "\n",
    "The goal for this notebook is to loop through all the times and write the dates in YEARMONTHDAY format. "
   ]
  },
  {
   "cell_type": "code",
   "execution_count": 24,
   "metadata": {},
   "outputs": [],
   "source": [
    "import numpy as np\n",
    "from netCDF4 import Dataset\n",
    "import datetime as td"
   ]
  },
  {
   "cell_type": "markdown",
   "metadata": {},
   "source": [
    "Before we look at our data, here is an example of working with date and timedelta. Say you want to find out the date 10 years after March 9th, 2020:"
   ]
  },
  {
   "cell_type": "code",
   "execution_count": 25,
   "metadata": {},
   "outputs": [
    {
     "name": "stdout",
     "output_type": "stream",
     "text": [
      "2020-03-09\n"
     ]
    }
   ],
   "source": [
    "march_9_2020 = td.date(2020,3,9)\n",
    "print(march_9_2020)"
   ]
  },
  {
   "cell_type": "code",
   "execution_count": 26,
   "metadata": {},
   "outputs": [],
   "source": [
    "ten_years = td.timedelta(days =10*365) # this doesn't consider leap years"
   ]
  },
  {
   "cell_type": "code",
   "execution_count": 27,
   "metadata": {
    "scrolled": true
   },
   "outputs": [
    {
     "name": "stdout",
     "output_type": "stream",
     "text": [
      "2030-03-07\n"
     ]
    }
   ],
   "source": [
    "date_in_10_years = ten_years + march_9_2020\n",
    "print(date_in_10_years)"
   ]
  },
  {
   "cell_type": "markdown",
   "metadata": {},
   "source": [
    "-------------------\n",
    "# Now let's look at our data\n",
    "\n",
    "The first thing is to import the dataset as a Dataset object"
   ]
  },
  {
   "cell_type": "code",
   "execution_count": 28,
   "metadata": {},
   "outputs": [],
   "source": [
    "#do that here:\n",
    "data = Dataset('/Users/brownscholar/Documents/Intern/Archive/intern-data-t0.nc') "
   ]
  },
  {
   "cell_type": "markdown",
   "metadata": {},
   "source": [
    "Then we want to read in the time variable. Do that here:"
   ]
  },
  {
   "cell_type": "code",
   "execution_count": 29,
   "metadata": {},
   "outputs": [],
   "source": [
    "# do that here: \n",
    "time = data['time']"
   ]
  },
  {
   "cell_type": "markdown",
   "metadata": {},
   "source": [
    "Print the shape of the time variable:"
   ]
  },
  {
   "cell_type": "code",
   "execution_count": 35,
   "metadata": {},
   "outputs": [
    {
     "name": "stdout",
     "output_type": "stream",
     "text": [
      "(261,)\n"
     ]
    }
   ],
   "source": [
    "# do that here:\n",
    "print(time.shape)"
   ]
  },
  {
   "cell_type": "markdown",
   "metadata": {},
   "source": [
    "Before we start using datetime, in terminal (open a new window or tab) look at the units of time. Using this info, define a start date:"
   ]
  },
  {
   "cell_type": "code",
   "execution_count": 39,
   "metadata": {},
   "outputs": [],
   "source": [
    "# do this here\n",
    "start_date = td.date(1950,1,1) "
   ]
  },
  {
   "cell_type": "code",
   "execution_count": 72,
   "metadata": {},
   "outputs": [
    {
     "name": "stdout",
     "output_type": "stream",
     "text": [
      "377064\n",
      "2079-01-17\n",
      "2079-01-17\n",
      "2079-01-17\n",
      "2079-01-17\n",
      "2079-01-17\n",
      "2079-01-17\n",
      "2079-01-17\n",
      "2079-01-17\n",
      "2079-01-17\n",
      "2079-01-17\n",
      "2079-01-17\n",
      "2079-01-17\n",
      "2079-01-17\n",
      "2079-01-17\n",
      "2079-01-17\n",
      "2079-01-17\n",
      "2079-01-17\n",
      "2079-01-17\n",
      "2079-01-17\n",
      "2079-01-17\n",
      "2079-01-17\n",
      "2079-01-17\n",
      "2079-01-17\n",
      "2079-01-17\n",
      "2079-01-17\n",
      "2079-01-17\n",
      "2079-01-17\n",
      "2079-01-17\n",
      "2079-01-17\n",
      "2079-01-17\n",
      "2079-01-17\n",
      "2079-01-17\n",
      "2079-01-17\n",
      "2079-01-17\n",
      "2079-01-17\n",
      "2079-01-17\n",
      "2079-01-17\n",
      "2079-01-17\n",
      "2079-01-17\n",
      "2079-01-17\n",
      "2079-01-17\n",
      "2079-01-17\n",
      "2079-01-17\n",
      "2079-01-17\n",
      "2079-01-17\n",
      "2079-01-17\n",
      "2079-01-17\n",
      "2079-01-17\n",
      "2079-01-17\n",
      "2079-01-17\n",
      "2079-01-17\n",
      "2079-01-17\n",
      "2079-01-17\n",
      "2079-01-17\n",
      "2079-01-17\n",
      "2079-01-17\n",
      "2079-01-17\n",
      "2079-01-17\n",
      "2079-01-17\n",
      "2079-01-17\n",
      "2079-01-17\n",
      "2079-01-17\n",
      "2079-01-17\n",
      "2079-01-17\n",
      "2079-01-17\n",
      "2079-01-17\n",
      "2079-01-17\n",
      "2079-01-17\n",
      "2079-01-17\n",
      "2079-01-17\n",
      "2079-01-17\n",
      "2079-01-17\n",
      "2079-01-17\n",
      "2079-01-17\n",
      "2079-01-17\n",
      "2079-01-17\n",
      "2079-01-17\n",
      "2079-01-17\n",
      "2079-01-17\n",
      "2079-01-17\n",
      "2079-01-17\n",
      "2079-01-17\n",
      "2079-01-17\n",
      "2079-01-17\n",
      "2079-01-17\n",
      "2079-01-17\n",
      "2079-01-17\n",
      "2079-01-17\n",
      "2079-01-17\n",
      "2079-01-17\n",
      "2079-01-17\n",
      "2079-01-17\n",
      "2079-01-17\n",
      "2079-01-17\n",
      "2079-01-17\n",
      "2079-01-17\n",
      "2079-01-17\n",
      "2079-01-17\n",
      "2079-01-17\n",
      "2079-01-17\n",
      "2079-01-17\n",
      "2079-01-17\n",
      "2079-01-17\n",
      "2079-01-17\n",
      "2079-01-17\n",
      "2079-01-17\n",
      "2079-01-17\n",
      "2079-01-17\n",
      "2079-01-17\n",
      "2079-01-17\n",
      "2079-01-17\n",
      "2079-01-17\n",
      "2079-01-17\n",
      "2079-01-17\n",
      "2079-01-17\n",
      "2079-01-17\n",
      "2079-01-17\n",
      "2079-01-17\n",
      "2079-01-17\n",
      "2079-01-17\n",
      "2079-01-17\n",
      "2079-01-17\n",
      "2079-01-17\n",
      "2079-01-17\n",
      "2079-01-17\n",
      "2079-01-17\n",
      "2079-01-17\n",
      "2079-01-17\n",
      "2079-01-17\n",
      "2079-01-17\n",
      "2079-01-17\n",
      "2079-01-17\n",
      "2079-01-17\n",
      "2079-01-17\n",
      "2079-01-17\n",
      "2079-01-17\n",
      "2079-01-17\n",
      "2079-01-17\n",
      "2079-01-17\n",
      "2079-01-17\n",
      "2079-01-17\n",
      "2079-01-17\n",
      "2079-01-17\n",
      "2079-01-17\n",
      "2079-01-17\n",
      "2079-01-17\n",
      "2079-01-17\n",
      "2079-01-17\n",
      "2079-01-17\n",
      "2079-01-17\n",
      "2079-01-17\n",
      "2079-01-17\n",
      "2079-01-17\n",
      "2079-01-17\n",
      "2079-01-17\n",
      "2079-01-17\n",
      "2079-01-17\n",
      "2079-01-17\n",
      "2079-01-17\n",
      "2079-01-17\n",
      "2079-01-17\n",
      "2079-01-17\n",
      "2079-01-17\n",
      "2079-01-17\n",
      "2079-01-17\n",
      "2079-01-17\n",
      "2079-01-17\n",
      "2079-01-17\n",
      "2079-01-17\n",
      "2079-01-17\n",
      "2079-01-17\n",
      "2079-01-17\n",
      "2079-01-17\n",
      "2079-01-17\n",
      "2079-01-17\n",
      "2079-01-17\n",
      "2079-01-17\n",
      "2079-01-17\n",
      "2079-01-17\n",
      "2079-01-17\n",
      "2079-01-17\n",
      "2079-01-17\n",
      "2079-01-17\n",
      "2079-01-17\n",
      "2079-01-17\n",
      "2079-01-17\n",
      "2079-01-17\n",
      "2079-01-17\n",
      "2079-01-17\n",
      "2079-01-17\n",
      "2079-01-17\n",
      "2079-01-17\n",
      "2079-01-17\n",
      "2079-01-17\n",
      "2079-01-17\n",
      "2079-01-17\n",
      "2079-01-17\n",
      "2079-01-17\n",
      "2079-01-17\n",
      "2079-01-17\n",
      "2079-01-17\n",
      "2079-01-17\n",
      "2079-01-17\n",
      "2079-01-17\n",
      "2079-01-17\n",
      "2079-01-17\n",
      "2079-01-17\n",
      "2079-01-17\n",
      "2079-01-17\n",
      "2079-01-17\n",
      "2079-01-17\n",
      "2079-01-17\n",
      "2079-01-17\n",
      "2079-01-17\n",
      "2079-01-17\n",
      "2079-01-17\n",
      "2079-01-17\n",
      "2079-01-17\n",
      "2079-01-17\n",
      "2079-01-17\n",
      "2079-01-17\n",
      "2079-01-17\n",
      "2079-01-17\n",
      "2079-01-17\n",
      "2079-01-17\n",
      "2079-01-17\n",
      "2079-01-17\n",
      "2079-01-17\n",
      "2079-01-17\n",
      "2079-01-17\n",
      "2079-01-17\n",
      "2079-01-17\n",
      "2079-01-17\n",
      "2079-01-17\n",
      "2079-01-17\n",
      "2079-01-17\n",
      "2079-01-17\n",
      "2079-01-17\n",
      "2079-01-17\n",
      "2079-01-17\n",
      "2079-01-17\n",
      "2079-01-17\n",
      "2079-01-17\n",
      "2079-01-17\n",
      "2079-01-17\n",
      "2079-01-17\n",
      "2079-01-17\n",
      "2079-01-17\n",
      "2079-01-17\n",
      "2079-01-17\n",
      "2079-01-17\n",
      "2079-01-17\n",
      "2079-01-17\n",
      "2079-01-17\n",
      "2079-01-17\n",
      "2079-01-17\n",
      "2079-01-17\n",
      "2079-01-17\n",
      "2079-01-17\n",
      "2079-01-17\n",
      "2079-01-17\n",
      "2079-01-17\n"
     ]
    }
   ],
   "source": [
    "# do this here\n",
    "print(time[0])\n",
    "t1 = float(time[0])\n",
    "first_date = td.timedelta(hours = t1) + start_date\n",
    "print(first_date)\n",
    "\n",
    "for i in range(0,261):\n",
    "    t1 = float(time[i])\n",
    "    print(first_date)"
   ]
  },
  {
   "cell_type": "markdown",
   "metadata": {},
   "source": [
    "Now, looping through the time numpy array, calculate and print the date using timedelta:"
   ]
  },
  {
   "cell_type": "markdown",
   "metadata": {},
   "source": [
    "--------------------\n",
    "# Finally,\n",
    "we want to turn these date objects into strings that are of the form YEARMONTHDAY. Here is an example of how to do this using the ``march_9_2020`` date we made before:"
   ]
  },
  {
   "cell_type": "code",
   "execution_count": 74,
   "metadata": {},
   "outputs": [
    {
     "name": "stdout",
     "output_type": "stream",
     "text": [
      "200309\n"
     ]
    }
   ],
   "source": [
    "print(march_9_2020.strftime(\"%y\") + march_9_2020.strftime(\"%m\") + march_9_2020.strftime(\"%d\")) \n",
    "\n",
    "# if this is confusing to you google the function \"strftime\" "
   ]
  },
  {
   "cell_type": "markdown",
   "metadata": {},
   "source": [
    "Add this to your loop and print the YEARMONTHDAY date for each date."
   ]
  },
  {
   "cell_type": "markdown",
   "metadata": {},
   "source": [
    "Now: How can we add this to our code to change our file names? "
   ]
  },
  {
   "cell_type": "code",
   "execution_count": 75,
   "metadata": {
    "scrolled": true
   },
   "outputs": [
    {
     "name": "stdout",
     "output_type": "stream",
     "text": [
      "360112\n"
     ]
    }
   ],
   "source": [
    "for i in range(0,261):\n",
    "    t1 = float(time[i])\n",
    "print(start_date.strftime(\"%y\") + start_date.strftime(\"%m\") + start_date.strftime(\"%d\"))\n"
   ]
  },
  {
   "cell_type": "code",
   "execution_count": null,
   "metadata": {},
   "outputs": [],
   "source": []
  },
  {
   "cell_type": "code",
   "execution_count": null,
   "metadata": {},
   "outputs": [],
   "source": []
  }
 ],
 "metadata": {
  "kernelspec": {
   "display_name": "Python 3",
   "language": "python",
   "name": "python3"
  },
  "language_info": {
   "codemirror_mode": {
    "name": "ipython",
    "version": 3
   },
   "file_extension": ".py",
   "mimetype": "text/x-python",
   "name": "python",
   "nbconvert_exporter": "python",
   "pygments_lexer": "ipython3",
   "version": "3.8.5"
  }
 },
 "nbformat": 4,
 "nbformat_minor": 2
}
